{
  "cells": [
    {
      "cell_type": "markdown",
      "metadata": {
        "id": "0loQfwb9POck"
      },
      "source": [
        "# Capstone Project\n",
        "## Neural translation model\n",
        "### Instructions\n",
        "\n",
        "In this notebook, you will create a neural network that translates from English to German. You will use concepts from throughout this course, including building more flexible model architectures, freezing layers, data processing pipeline and sequence modelling.\n",
        "\n",
        "This project is peer-assessed. Within this notebook you will find instructions in each section for how to complete the project. Pay close attention to the instructions as the peer review will be carried out according to a grading rubric that checks key parts of the project instructions. Feel free to add extra cells into the notebook as required.\n",
        "\n",
        "### How to submit\n",
        "\n",
        "When you have completed the Capstone project notebook, you will submit a pdf of the notebook for peer review. First ensure that the notebook has been fully executed from beginning to end, and all of the cell outputs are visible. This is important, as the grading rubric depends on the reviewer being able to view the outputs of your notebook. Save the notebook as a pdf (File -> Download as -> PDF via LaTeX). You should then submit this pdf for review.\n",
        "\n",
        "### Let's get started!\n",
        "\n",
        "We'll start by running some imports, and loading the dataset. For this project you are free to make further imports throughout the notebook as you wish."
      ]
    },
    {
      "cell_type": "code",
      "execution_count": 32,
      "metadata": {
        "id": "88ElBSuoPOcn"
      },
      "outputs": [],
      "source": [
        "import tensorflow as tf\n",
        "import tensorflow_hub as hub\n",
        "import unicodedata\n",
        "import re\n",
        "from tensorflow.keras.preprocessing.text import Tokenizer\n",
        "from tensorflow.keras.preprocessing.sequence import pad_sequences\n",
        "import numpy as np\n",
        "import random\n",
        "from sklearn.model_selection import train_test_split\n",
        "import matplotlib.pyplot as plt"
      ]
    },
    {
      "cell_type": "markdown",
      "metadata": {
        "id": "DqQMhnE1POcp"
      },
      "source": [
        "![Flags overview image](data/germany_uk_flags.png)\n",
        "\n",
        "For the capstone project, you will use a language dataset from http://www.manythings.org/anki/ to build a neural translation model. This dataset consists of over 200,000 pairs of sentences in English and German. In order to make the training quicker, we will restrict to our dataset to 20,000 pairs. Feel free to change this if you wish - the size of the dataset used is not part of the grading rubric.\n",
        "\n",
        "Your goal is to develop a neural translation model from English to German, making use of a pre-trained English word embedding module."
      ]
    },
    {
      "cell_type": "code",
      "execution_count": 33,
      "metadata": {
        "id": "Dj7r8KexPOcp"
      },
      "outputs": [],
      "source": [
        "# Run this cell to load the dataset\n",
        "\n",
        "NUM_EXAMPLES = 20000\n",
        "data_examples = []\n",
        "with open('/content/deu.txt', 'r', encoding='utf8') as f:\n",
        "    for line in f.readlines():\n",
        "        if len(data_examples) < NUM_EXAMPLES:\n",
        "            data_examples.append(line)\n",
        "        else:\n",
        "            break"
      ]
    },
    {
      "cell_type": "code",
      "execution_count": 34,
      "metadata": {
        "id": "Nq8HZSuUPOcq"
      },
      "outputs": [],
      "source": [
        "# These functions preprocess English and German sentences\n",
        "\n",
        "def unicode_to_ascii(s):\n",
        "    return ''.join(c for c in unicodedata.normalize('NFD', s) if unicodedata.category(c) != 'Mn')\n",
        "\n",
        "def preprocess_sentence(sentence):\n",
        "    sentence = sentence.lower().strip()\n",
        "    sentence = re.sub(r\"ü\", 'ue', sentence)\n",
        "    sentence = re.sub(r\"ä\", 'ae', sentence)\n",
        "    sentence = re.sub(r\"ö\", 'oe', sentence)\n",
        "    sentence = re.sub(r'ß', 'ss', sentence)\n",
        "\n",
        "    sentence = unicode_to_ascii(sentence)\n",
        "    sentence = re.sub(r\"([?.!,])\", r\" \\1 \", sentence)\n",
        "    sentence = re.sub(r\"[^a-z?.!,']+\", \" \", sentence)\n",
        "    sentence = re.sub(r'[\" \"]+', \" \", sentence)\n",
        "\n",
        "    return sentence.strip()"
      ]
    },
    {
      "cell_type": "markdown",
      "metadata": {
        "id": "fO-_EJtRPOcr"
      },
      "source": [
        "#### The custom translation model\n",
        "The following is a schematic of the custom translation model architecture you will develop in this project.\n",
        "\n",
        "![Model Schematic](data/neural_translation_model.png)\n",
        "\n",
        "Key:\n",
        "![Model key](data/neural_translation_model_key.png)\n",
        "\n",
        "The custom model consists of an encoder RNN and a decoder RNN. The encoder takes words of an English sentence as input, and uses a pre-trained word embedding to embed the words into a 128-dimensional space. To indicate the end of the input sentence, a special end token (in the same 128-dimensional space) is passed in as an input. This token is a TensorFlow Variable that is learned in the training phase (unlike the pre-trained word embedding, which is frozen).\n",
        "\n",
        "The decoder RNN takes the internal state of the encoder network as its initial state. A start token is passed in as the first input, which is embedded using a learned German word embedding. The decoder RNN then makes a prediction for the next German word, which during inference is then passed in as the following input, and this process is repeated until the special `<end>` token is emitted from the decoder."
      ]
    },
    {
      "cell_type": "markdown",
      "metadata": {
        "id": "pek9Vu09POcr"
      },
      "source": [
        "## 1. Text preprocessing\n",
        "* Create separate lists of English and German sentences, and preprocess them using the `preprocess_sentence` function provided for you above.\n",
        "* Add a special `\"<start>\"` and `\"<end>\"` token to the beginning and end of every German sentence.\n",
        "* Use the Tokenizer class from the `tf.keras.preprocessing.text` module to tokenize the German sentences, ensuring that no character filters are applied. _Hint: use the Tokenizer's \"filter\" keyword argument._\n",
        "* Print out at least 5 randomly chosen examples of (preprocessed) English and German sentence pairs. For the German sentence, print out the text (with start and end tokens) as well as the tokenized sequence.\n",
        "* Pad the end of the tokenized German sequences with zeros, and batch the complete set of sequences into one numpy array."
      ]
    },
    {
      "cell_type": "code",
      "execution_count": 35,
      "metadata": {
        "colab": {
          "base_uri": "https://localhost:8080/"
        },
        "id": "m_b38aqPPOcx",
        "outputId": "8d49a3e6-907e-479c-e96c-dcc1eec9bf30"
      },
      "outputs": [
        {
          "output_type": "stream",
          "name": "stdout",
          "text": [
            "English: earth is a planet .\n",
            "German: <start> die erde ist ein planet . <end>\n",
            "German Tokens: [   1   26 5469    6   19 3067    3    2    0    0    0    0    0    0]\n",
            "\n",
            "English: it's not a gift .\n",
            "German: <start> sie ist kein geschenk . <end>\n",
            "German Tokens: [   1    8    6   71 1607    3    2    0    0    0    0    0    0    0]\n",
            "\n",
            "English: why is tom shy ?\n",
            "German: <start> warum ist tom schuechtern ? <end>\n",
            "German Tokens: [  1  95   6   5 337   7   2   0   0   0   0   0   0   0]\n",
            "\n",
            "English: people are dying .\n",
            "German: <start> es sterben menschen . <end>\n",
            "German Tokens: [  1  10 199 851   3   2   0   0   0   0   0   0   0   0]\n",
            "\n",
            "English: he lost face .\n",
            "German: <start> er hat das gesicht verloren . <end>\n",
            "German Tokens: [  1  14  16  11 637 142   3   2   0   0   0   0   0   0]\n",
            "\n"
          ]
        }
      ],
      "source": [
        "# Preprocess English and German sentences\n",
        "english_sentences = []\n",
        "german_sentences = []\n",
        "\n",
        "for line in data_examples:\n",
        "    eng, ger = line.strip().split('\\t')[:2]\n",
        "    english_sentences.append(preprocess_sentence(eng))\n",
        "    german_sentences.append(f\"<start> {preprocess_sentence(ger)} <end>\")\n",
        "\n",
        "# Tokenize German sentences\n",
        "tokenizer = Tokenizer(filters='')\n",
        "tokenizer.fit_on_texts(german_sentences)\n",
        "german_sequences = tokenizer.texts_to_sequences(german_sentences)\n",
        "german_sequences = pad_sequences(german_sequences, padding='post')\n",
        "\n",
        "# Vocabulary size for German sentences\n",
        "vocab_size = len(tokenizer.word_index) + 1\n",
        "\n",
        "# Print some examples\n",
        "for i in random.sample(range(len(english_sentences)), 5):\n",
        "    print(f\"English: {english_sentences[i]}\")\n",
        "    print(f\"German: {german_sentences[i]}\")\n",
        "    print(f\"German Tokens: {german_sequences[i]}\\n\")"
      ]
    },
    {
      "cell_type": "markdown",
      "metadata": {
        "id": "B09oYawoPOcy"
      },
      "source": [
        "## 2. Prepare the data with tf.data.Dataset objects"
      ]
    },
    {
      "cell_type": "markdown",
      "metadata": {
        "id": "zR11Hd2nPOcy"
      },
      "source": [
        "#### Load the embedding layer\n",
        "As part of the dataset preproceessing for this project, you will use a pre-trained English word embedding module from TensorFlow Hub. The URL for the module is https://tfhub.dev/google/tf2-preview/nnlm-en-dim128-with-normalization/1. This module has also been made available as a complete saved model in the folder `'./models/tf2-preview_nnlm-en-dim128_1'`.\n",
        "\n",
        "This embedding takes a batch of text tokens in a 1-D tensor of strings as input. It then embeds the separate tokens into a 128-dimensional space.\n",
        "\n",
        "The code to load and test the embedding layer is provided for you below.\n",
        "\n",
        "**NB:** this model can also be used as a sentence embedding module. The module will process each token by removing punctuation and splitting on spaces. It then averages the word embeddings over a sentence to give a single embedding vector. However, we will use it only as a word embedding module, and will pass each word in the input sentence as a separate token."
      ]
    },
    {
      "cell_type": "code",
      "execution_count": 36,
      "metadata": {
        "id": "TSYGnQQ7POcz"
      },
      "outputs": [],
      "source": [
        "# Load embedding module from Tensorflow Hub\n",
        "\n",
        "# embedding_layer = hub.KerasLayer(\"./models/tf2-preview_nnlm-en-dim128_1\", output_shape=[128], input_shape=[], dtype=tf.string)\n",
        "\n",
        "# Load embedding layer from TensorFlow Hub\n",
        "embedding_layer = hub.KerasLayer(\"https://tfhub.dev/google/tf2-preview/nnlm-en-dim128/1\", output_shape=[128], input_shape=[], dtype=tf.string)"
      ]
    },
    {
      "cell_type": "code",
      "execution_count": 37,
      "metadata": {
        "colab": {
          "base_uri": "https://localhost:8080/"
        },
        "id": "4ZgfOrMXPOcz",
        "outputId": "a7e429e7-a4f8-4d14-f451-917a41f89749"
      },
      "outputs": [
        {
          "output_type": "execute_result",
          "data": {
            "text/plain": [
              "TensorShape([7, 128])"
            ]
          },
          "metadata": {},
          "execution_count": 37
        }
      ],
      "source": [
        "# Test the layer\n",
        "\n",
        "embedding_layer(tf.constant([\"these\", \"aren't\", \"the\", \"droids\", \"you're\", \"looking\", \"for\"])).shape"
      ]
    },
    {
      "cell_type": "markdown",
      "metadata": {
        "id": "jsnz0DmTPOc0"
      },
      "source": [
        "You should now prepare the training and validation Datasets.\n",
        "\n",
        "* Create a random training and validation set split of the data, reserving e.g. 20% of the data for validation (NB: each English dataset example is a single sentence string, and each German dataset example is a sequence of padded integer tokens).\n",
        "* Load the training and validation sets into a tf.data.Dataset object, passing in a tuple of English and German data for both training and validation sets.\n",
        "* Create a function to map over the datasets that splits each English sentence at spaces. Apply this function to both Dataset objects using the map method. _Hint: look at the tf.strings.split function._\n",
        "* Create a function to map over the datasets that embeds each sequence of English words using the loaded embedding layer/model. Apply this function to both Dataset objects using the map method.\n",
        "* Create a function to filter out dataset examples where the English sentence is more than 13 (embedded) tokens in length. Apply this function to both Dataset objects using the filter method.\n",
        "* Create a function to map over the datasets that pads each English sequence of embeddings with some distinct padding value before the sequence, so that each sequence is length 13. Apply this function to both Dataset objects using the map method. _Hint: look at the tf.pad function. You can extract a Tensor shape using tf.shape; you might also find the tf.math.maximum function useful._\n",
        "* Batch both training and validation Datasets with a batch size of 16.\n",
        "* Print the `element_spec` property for the training and validation Datasets.\n",
        "* Using the Dataset `.take(1)` method, print the shape of the English data example from the training Dataset.\n",
        "* Using the Dataset `.take(1)` method, print the German data example Tensor from the validation Dataset."
      ]
    },
    {
      "cell_type": "code",
      "execution_count": 38,
      "metadata": {
        "colab": {
          "base_uri": "https://localhost:8080/"
        },
        "id": "4Tx0HzNVPOc2",
        "outputId": "cb238c2b-a0d9-4241-85fe-8705b52e5512"
      },
      "outputs": [
        {
          "output_type": "stream",
          "name": "stdout",
          "text": [
            "Training Dataset element_spec: (TensorSpec(shape=(None, None, 128), dtype=tf.float32, name=None), TensorSpec(shape=(None, 14), dtype=tf.int32, name=None))\n",
            "Validation Dataset element_spec: (TensorSpec(shape=(None, None, 128), dtype=tf.float32, name=None), TensorSpec(shape=(None, 14), dtype=tf.int32, name=None))\n",
            "English batch shape: (16, 13, 128)\n",
            "German batch shape: (16, 14)\n"
          ]
        }
      ],
      "source": [
        "# Split the data into training and validation sets\n",
        "english_train, english_val, german_train, german_val = train_test_split(\n",
        "    english_sentences, german_sequences, test_size=0.2, random_state=42)\n",
        "\n",
        "# Create tf.data.Dataset objects\n",
        "train_dataset = tf.data.Dataset.from_tensor_slices((english_train, german_train))\n",
        "val_dataset = tf.data.Dataset.from_tensor_slices((english_val, german_val))\n",
        "\n",
        "# Function to split English sentences into tokens\n",
        "def split_tokens(eng_sent):\n",
        "    return tf.strings.split(eng_sent, sep=\" \")\n",
        "\n",
        "# Function to embed English sentences using the embedding layer\n",
        "def embed_tokens(eng_tokens):\n",
        "    return embedding_layer(eng_tokens)\n",
        "\n",
        "# Filter out sentences longer than 13 tokens and pad sequences\n",
        "def filter_length(eng, ger):\n",
        "    return tf.math.less(tf.cast(tf.shape(eng)[0],dtype=tf.int32), 13)\n",
        "\n",
        "# Pad sequences function\n",
        "def pad_sequences(eng, ger):\n",
        "    eng = tf.pad(eng, [[0, 13 - tf.shape(eng)[0]], [0, 0]])\n",
        "    return eng, ger\n",
        "\n",
        "# Apply functions\n",
        "train_dataset = train_dataset.map(lambda eng, ger: (split_tokens(eng), ger))\n",
        "val_dataset = val_dataset.map(lambda eng, ger: (split_tokens(eng), ger))\n",
        "train_dataset = train_dataset.map(lambda eng, ger: (embed_tokens(eng), ger))\n",
        "val_dataset = val_dataset.map(lambda eng, ger: (embed_tokens(eng), ger))\n",
        "\n",
        "# Filter both English and German sentences based on English sentence length\n",
        "train_dataset = train_dataset.filter(filter_length)\n",
        "val_dataset = val_dataset.filter(filter_length)\n",
        "\n",
        "# Pad sequences\n",
        "train_dataset = train_dataset.map(pad_sequences)\n",
        "val_dataset = val_dataset.map(pad_sequences)\n",
        "\n",
        "# Batch the datasets\n",
        "BATCH_SIZE = 16\n",
        "train_dataset = train_dataset.batch(BATCH_SIZE)\n",
        "val_dataset = val_dataset.batch(BATCH_SIZE)\n",
        "\n",
        "# Print element_spec and example shapes\n",
        "print(\"Training Dataset element_spec:\", train_dataset.element_spec)\n",
        "print(\"Validation Dataset element_spec:\", val_dataset.element_spec)\n",
        "\n",
        "# Take a single batch to inspect\n",
        "for eng_batch, ger_batch in train_dataset.take(1):\n",
        "    print(\"English batch shape:\", eng_batch.shape)\n",
        "    print(\"German batch shape:\", ger_batch.shape)"
      ]
    },
    {
      "cell_type": "markdown",
      "metadata": {
        "id": "kE8W0gYsPOc3"
      },
      "source": [
        "## 3. Create the custom layer\n",
        "You will now create a custom layer to add the learned end token embedding to the encoder model:\n",
        "\n",
        "![Encoder schematic](data/neural_translation_model_encoder.png)"
      ]
    },
    {
      "cell_type": "markdown",
      "metadata": {
        "id": "Tb7nbbJaPOc3"
      },
      "source": [
        "You should now build the custom layer.\n",
        "* Using layer subclassing, create a custom layer that takes a batch of English data examples from one of the Datasets, and adds a learned embedded ‘end’ token to the end of each sequence.\n",
        "* This layer should create a TensorFlow Variable (that will be learned during training) that is 128-dimensional (the size of the embedding space). _Hint: you may find it helpful in the call method to use the tf.tile function to replicate the end token embedding across every element in the batch._\n",
        "* Using the Dataset `.take(1)` method, extract a batch of English data examples from the training Dataset and print the shape. Test the custom layer by calling the layer on the English data batch Tensor and print the resulting Tensor shape (the layer should increase the sequence length by one)."
      ]
    },
    {
      "cell_type": "code",
      "execution_count": 39,
      "metadata": {
        "colab": {
          "base_uri": "https://localhost:8080/"
        },
        "id": "9PuDiXggPOc3",
        "outputId": "502cfe64-01c6-4141-85f3-92442f8ab723"
      },
      "outputs": [
        {
          "output_type": "stream",
          "name": "stdout",
          "text": [
            "Shape after adding end token: (16, 14, 128)\n"
          ]
        }
      ],
      "source": [
        "class AddEndTokenLayer(tf.keras.layers.Layer):\n",
        "    def __init__(self, **kwargs):\n",
        "        super(AddEndTokenLayer, self).__init__(**kwargs)\n",
        "        self.end_token_embedding = tf.Variable(tf.random.uniform(shape=(128,)), trainable=True)\n",
        "\n",
        "    def call(self, input):\n",
        "        output = tf.tile(tf.reshape(self.end_token_embedding, shape=(1, 1, tf.shape(self.end_token_embedding)[0])),\n",
        "                         [tf.shape(input)[0], 1, 1])\n",
        "        return tf.keras.layers.concatenate([input, output], axis=1)\n",
        "\n",
        "# Test the custom layer\n",
        "add_end_token_layer = AddEndTokenLayer()\n",
        "for eng_batch, _ in train_dataset.take(1):\n",
        "    result = add_end_token_layer(eng_batch)\n",
        "    print(\"Shape after adding end token:\", result.shape)"
      ]
    },
    {
      "cell_type": "markdown",
      "metadata": {
        "id": "kv0eYnoLPOc4"
      },
      "source": [
        "## 4. Build the encoder network\n",
        "The encoder network follows the schematic diagram above. You should now build the RNN encoder model.\n",
        "* Using the functional API, build the encoder network according to the following spec:\n",
        "    * The model will take a batch of sequences of embedded English words as input, as given by the Dataset objects.\n",
        "    * The next layer in the encoder will be the custom layer you created previously, to add a learned end token embedding to the end of the English sequence.\n",
        "    * This is followed by a Masking layer, with the `mask_value` set to the distinct padding value you used when you padded the English sequences with the Dataset preprocessing above.\n",
        "    * The final layer is an LSTM layer with 512 units, which also returns the hidden and cell states.\n",
        "    * The encoder is a multi-output model. There should be two output Tensors of this model: the hidden state and cell states of the LSTM layer. The output of the LSTM layer is unused.\n",
        "* Using the Dataset `.take(1)` method, extract a batch of English data examples from the training Dataset and test the encoder model by calling it on the English data Tensor, and print the shape of the resulting Tensor outputs.\n",
        "* Print the model summary for the encoder network."
      ]
    },
    {
      "cell_type": "code",
      "execution_count": 40,
      "metadata": {
        "colab": {
          "base_uri": "https://localhost:8080/"
        },
        "id": "CFIYNxBGPOdp",
        "outputId": "75673bf4-12b0-4899-8c79-d3897393e31f"
      },
      "outputs": [
        {
          "output_type": "stream",
          "name": "stdout",
          "text": [
            "Encoder hidden state shape: (16, 512)\n",
            "Encoder cell state shape: (16, 512)\n",
            "Model: \"model_2\"\n",
            "_________________________________________________________________\n",
            " Layer (type)                Output Shape              Param #   \n",
            "=================================================================\n",
            " input_4 (InputLayer)        [(None, 13, 128)]         0         \n",
            "                                                                 \n",
            " add_end_token_layer_1 (Add  (None, 14, 128)           128       \n",
            " EndTokenLayer)                                                  \n",
            "                                                                 \n",
            " masking_2 (Masking)         (None, 14, 128)           0         \n",
            "                                                                 \n",
            " lstm_3 (LSTM)               [(None, 512),             1312768   \n",
            "                              (None, 512),                       \n",
            "                              (None, 512)]                       \n",
            "                                                                 \n",
            "=================================================================\n",
            "Total params: 1312896 (5.01 MB)\n",
            "Trainable params: 1312896 (5.01 MB)\n",
            "Non-trainable params: 0 (0.00 Byte)\n",
            "_________________________________________________________________\n"
          ]
        }
      ],
      "source": [
        "# Encoder model\n",
        "def EncoderModel():\n",
        "    inputs = tf.keras.Input(shape=(13, 128))\n",
        "    x = add_end_token_layer(inputs)\n",
        "    x = tf.keras.layers.Masking(mask_value=0)(x)\n",
        "    lstm_output, hidden_state, cell_state = tf.keras.layers.LSTM(512, return_state=True)(x)\n",
        "    encoder_model = tf.keras.Model(inputs, [hidden_state, cell_state])\n",
        "    return encoder_model\n",
        "\n",
        "encoder_model = EncoderModel()\n",
        "\n",
        "# Test the encoder model\n",
        "for eng_batch, _ in train_dataset.take(1):\n",
        "    hidden, cell = encoder_model(eng_batch)\n",
        "    print(\"Encoder hidden state shape:\", hidden.shape)\n",
        "    print(\"Encoder cell state shape:\", cell.shape)\n",
        "\n",
        "# Print the model summary\n",
        "encoder_model.summary()"
      ]
    },
    {
      "cell_type": "markdown",
      "metadata": {
        "id": "mFSTAxL7POdq"
      },
      "source": [
        "## 5. Build the decoder network\n",
        "The decoder network follows the schematic diagram below.\n",
        "\n",
        "![Decoder schematic](data/neural_translation_model_decoder.png)"
      ]
    },
    {
      "cell_type": "markdown",
      "metadata": {
        "id": "96J6PNoXPOdr"
      },
      "source": [
        "You should now build the RNN decoder model.\n",
        "* Using Model subclassing, build the decoder network according to the following spec:\n",
        "    * The initializer should create the following layers:\n",
        "        * An Embedding layer with vocabulary size set to the number of unique German tokens, embedding dimension 128, and set to mask zero values in the input.\n",
        "        * An LSTM layer with 512 units, that returns its hidden and cell states, and also returns sequences.\n",
        "        * A Dense layer with number of units equal to the number of unique German tokens, and no activation function.\n",
        "    * The call method should include the usual `inputs` argument, as well as the additional keyword arguments `hidden_state` and `cell_state`. The default value for these keyword arguments should be `None`.\n",
        "    * The call method should pass the inputs through the Embedding layer, and then through the LSTM layer. If the `hidden_state` and `cell_state` arguments are provided, these should be used for the initial state of the LSTM layer. _Hint: use the_ `initial_state` _keyword argument when calling the LSTM layer on its input._\n",
        "    * The call method should pass the LSTM output sequence through the Dense layer, and return the resulting Tensor, along with the hidden and cell states of the LSTM layer.\n",
        "* Using the Dataset `.take(1)` method, extract a batch of English and German data examples from the training Dataset. Test the decoder model by first calling the encoder model on the English data Tensor to get the hidden and cell states, and then call the decoder model on the German data Tensor and hidden and cell states, and print the shape of the resulting decoder Tensor outputs.\n",
        "* Print the model summary for the decoder network."
      ]
    },
    {
      "cell_type": "code",
      "execution_count": 41,
      "metadata": {
        "colab": {
          "base_uri": "https://localhost:8080/"
        },
        "id": "UlhEc3eZPOd5",
        "outputId": "8385a3bf-1e41-493a-98df-962d34ddf22b"
      },
      "outputs": [
        {
          "output_type": "stream",
          "name": "stdout",
          "text": [
            "Decoder output shape: (16, 14, 5744)\n",
            "Model: \"decoder_1\"\n",
            "_________________________________________________________________\n",
            " Layer (type)                Output Shape              Param #   \n",
            "=================================================================\n",
            " embedding_1 (Embedding)     multiple                  735232    \n",
            "                                                                 \n",
            " lstm_4 (LSTM)               multiple                  1312768   \n",
            "                                                                 \n",
            " dense_1 (Dense)             multiple                  2946672   \n",
            "                                                                 \n",
            "=================================================================\n",
            "Total params: 4994672 (19.05 MB)\n",
            "Trainable params: 4994672 (19.05 MB)\n",
            "Non-trainable params: 0 (0.00 Byte)\n",
            "_________________________________________________________________\n"
          ]
        }
      ],
      "source": [
        "class Decoder(tf.keras.Model):\n",
        "    def __init__(self, vocab_size, embedding_dim, lstm_units):\n",
        "        super(Decoder, self).__init__()\n",
        "        self.embedding = tf.keras.layers.Embedding(vocab_size, embedding_dim, mask_zero=True)\n",
        "        self.lstm = tf.keras.layers.LSTM(lstm_units, return_sequences=True, return_state=True)\n",
        "        self.dense = tf.keras.layers.Dense(vocab_size)\n",
        "\n",
        "    def call(self, inputs, hidden_state=None, cell_state=None):\n",
        "        x = self.embedding(inputs)\n",
        "        lstm_output, hidden_state, cell_state = self.lstm(x, initial_state=[hidden_state, cell_state])\n",
        "        output = self.dense(lstm_output)\n",
        "        return output, hidden_state, cell_state\n",
        "\n",
        "# Test the decoder model\n",
        "decoder = Decoder(vocab_size, 128, 512)\n",
        "for eng_batch, ger_batch in train_dataset.take(1):\n",
        "    hidden, cell = encoder_model(eng_batch)\n",
        "    decoder_output, _, _ = decoder(ger_batch, hidden, cell)\n",
        "    print(\"Decoder output shape:\", decoder_output.shape)\n",
        "\n",
        "# Print the model summary\n",
        "decoder.summary()"
      ]
    },
    {
      "cell_type": "markdown",
      "metadata": {
        "id": "GvveQG9RPOd5"
      },
      "source": [
        "## 6. Make a custom training loop\n",
        "You should now write a custom training loop to train your custom neural translation model.\n",
        "* Define a function that takes a Tensor batch of German data (as extracted from the training Dataset), and returns a tuple containing German inputs and outputs for the decoder model (refer to schematic diagram above).\n",
        "* Define a function that computes the forward and backward pass for your translation model. This function should take an English input, German input and German output as arguments, and should do the following:\n",
        "    * Pass the English input into the encoder, to get the hidden and cell states of the encoder LSTM.\n",
        "    * These hidden and cell states are then passed into the decoder, along with the German inputs, which returns a sequence of outputs (the hidden and cell state outputs of the decoder LSTM are unused in this function).\n",
        "    * The loss should then be computed between the decoder outputs and the German output function argument.\n",
        "    * The function returns the loss and gradients with respect to the encoder and decoder’s trainable variables.\n",
        "    * Decorate the function with @tf.function\n",
        "* Define and run a custom training loop for a number of epochs (for you to choose) that does the following:\n",
        "    * Iterates through the training dataset, and creates decoder inputs and outputs from the German sequences.\n",
        "    * Updates the parameters of the translation model using the gradients of the function above and an optimizer object.\n",
        "    * Every epoch, compute the validation loss on a number of batches from the validation and save the epoch training and validation losses.\n",
        "* Plot the learning curves for loss vs epoch for both training and validation sets.\n",
        "\n",
        "_Hint: This model is computationally demanding to train. The quality of the model or length of training is not a factor in the grading rubric. However, to obtain a better model we recommend using the GPU accelerator hardware on Colab._"
      ]
    },
    {
      "cell_type": "code",
      "source": [
        "# Function to create German inputs and outputs for the decoder\n",
        "def create_german_io(german_batch):\n",
        "    german_inp = german_batch[:, :-1]\n",
        "    german_out = german_batch[:, 1:]\n",
        "    return german_inp, german_out\n",
        "\n",
        "# Function to compute loss and gradients\n",
        "@tf.function\n",
        "def compute_loss_and_gradients(english_inp, german_inp, german_out, encoder, decoder, loss_object):\n",
        "    with tf.GradientTape() as tape:\n",
        "        hidden_state, cell_state = encoder(english_inp)\n",
        "        decoder_output, _, _ = decoder(german_inp, hidden_state, cell_state)\n",
        "        loss = tf.math.reduce_mean(loss_object(german_out, decoder_output))\n",
        "        gradients = tape.gradient(loss, encoder.trainable_variables + decoder.trainable_variables)\n",
        "    return loss, gradients\n",
        "\n",
        "optimizer = tf.keras.optimizers.Adam()\n",
        "loss_object = tf.keras.losses.SparseCategoricalCrossentropy(from_logits=True)"
      ],
      "metadata": {
        "id": "NCsI1t2t5Pj6"
      },
      "execution_count": 42,
      "outputs": []
    },
    {
      "cell_type": "code",
      "execution_count": 43,
      "metadata": {
        "id": "7euexqhFPOd_",
        "colab": {
          "base_uri": "https://localhost:8080/",
          "height": 639
        },
        "outputId": "f7737182-9af5-41de-b474-93da9478353c"
      },
      "outputs": [
        {
          "output_type": "stream",
          "name": "stdout",
          "text": [
            "Epoch 1, Loss: 3.0813803672790527, Validation Loss: 2.511226177215576\n",
            "Epoch 2, Loss: 2.2082974910736084, Validation Loss: 2.203383207321167\n",
            "Epoch 3, Loss: 1.756738305091858, Validation Loss: 2.032363176345825\n",
            "Epoch 4, Loss: 1.402984857559204, Validation Loss: 1.9601372480392456\n",
            "Epoch 5, Loss: 1.1226801872253418, Validation Loss: 1.9210883378982544\n",
            "Epoch 6, Loss: 0.9019704461097717, Validation Loss: 1.89969003200531\n",
            "Epoch 7, Loss: 0.7249229550361633, Validation Loss: 1.8980612754821777\n",
            "Epoch 8, Loss: 0.5824493765830994, Validation Loss: 1.9232841730117798\n",
            "Epoch 9, Loss: 0.47039172053337097, Validation Loss: 1.9414535760879517\n",
            "Epoch 10, Loss: 0.38393932580947876, Validation Loss: 1.9539910554885864\n"
          ]
        },
        {
          "output_type": "display_data",
          "data": {
            "text/plain": [
              "<Figure size 1000x500 with 1 Axes>"
            ],
            "image/png": "[encoded data removed]"
          },
          "metadata": {}
        }
      ],
      "source": [
        "EPOCHS = 10\n",
        "training_losses = []\n",
        "validation_losses = []\n",
        "\n",
        "for epoch in range(EPOCHS):\n",
        "    total_loss = []\n",
        "    for english_batch, german_batch in train_dataset:\n",
        "        german_inp, german_out = create_german_io(german_batch)\n",
        "        loss, gradients = compute_loss_and_gradients(english_batch, german_inp, german_out, encoder_model, decoder, loss_object)\n",
        "        optimizer.apply_gradients(zip(gradients, encoder_model.trainable_variables + decoder.trainable_variables))\n",
        "        total_loss += [loss]\n",
        "    training_losses += [np.mean(total_loss)]\n",
        "\n",
        "    # Validation loss\n",
        "    val_loss = []\n",
        "    for english_batch, german_batch in val_dataset:\n",
        "        german_inp, german_out = create_german_io(german_batch)\n",
        "        hidden_state, cell_state = encoder_model(english_batch)\n",
        "        decoder_output, _, _ = decoder(german_inp, hidden_state, cell_state)\n",
        "        loss = loss_object(german_out, decoder_output)\n",
        "        val_loss += [loss]\n",
        "    validation_losses += [np.mean(val_loss)]\n",
        "\n",
        "    print(f'Epoch {epoch+1}, Loss: {training_losses[-1]}, Validation Loss: {validation_losses[-1]}')\n",
        "\n",
        "#  Plotting the learning curves\n",
        "fig = plt.figure(figsize=(10,5))\n",
        "plt.plot(range(EPOCHS), training_losses, label='Training Loss')\n",
        "plt.plot(range(EPOCHS), validation_losses, label='Validation Loss')\n",
        "plt.xlabel('Epochs')\n",
        "plt.ylabel('Loss')\n",
        "plt.legend()\n",
        "plt.show()"
      ]
    },
    {
      "cell_type": "markdown",
      "metadata": {
        "id": "2RVw_aMLPOd_"
      },
      "source": [
        "## 7. Use the model to translate\n",
        "Now it's time to put your model into practice! You should run your translation for five randomly sampled English sentences from the dataset. For each sentence, the process is as follows:\n",
        "* Preprocess and embed the English sentence according to the model requirements.\n",
        "* Pass the embedded sentence through the encoder to get the encoder hidden and cell states.\n",
        "* Starting with the special  `\"<start>\"` token, use this token and the final encoder hidden and cell states to get the one-step prediction from the decoder, as well as the decoder’s updated hidden and cell states.\n",
        "* Create a loop to get the next step prediction and updated hidden and cell states from the decoder, using the most recent hidden and cell states. Terminate the loop when the `\"<end>\"` token is emitted, or when the sentence has reached a maximum length.\n",
        "* Decode the output token sequence into German text and print the English text and the model's German translation."
      ]
    },
    {
      "source": [
        "def translate(sentence, encoder, decoder, tokenizer, maxlen): # Add maxlen as an argument\n",
        "    sentence = tf.strings.split(sentence)\n",
        "    sentence = embedding_layer(sentence)\n",
        "    # Use tf.shape(sentence)[0] to dynamically determine the first dimension\n",
        "    padding = [[tf.math.maximum(maxlen-tf.shape(sentence)[0],0), 0], [0,0]] # Use maxlen here\n",
        "    sentence = tf.pad(sentence, padding)\n",
        "    # Truncate the sentence to the maximum length the encoder can handle\n",
        "    sentence = sentence[:maxlen, :]\n",
        "    hidden_state, cell_state = encoder(tf.expand_dims(sentence, 0))\n",
        "    decoder_input = tf.expand_dims([tokenizer.word_index['<start>']], 0)\n",
        "    german_sent = []\n",
        "    result = [] # Initialize the result list\n",
        "\n",
        "    for t in range(20):\n",
        "        predictions, hidden_state, cell_state = decoder(decoder_input, hidden_state, cell_state)\n",
        "        predicted_id = tf.argmax(predictions[0, -1]).numpy()\n",
        "        result.append(predicted_id)\n",
        "\n",
        "        if tokenizer.index_word[predicted_id] == '<end>':\n",
        "            break\n",
        "        decoder_input = tf.expand_dims([predicted_id], 0)\n",
        "\n",
        "    translated_sentence = ' '.join([tokenizer.index_word[i] for i in result])\n",
        "    return translated_sentence\n",
        "\n",
        "# Determine the maxlen (e.g., from your data)\n",
        "maxlen = 13 # Replace with the actual maximum length your encoder expects\n",
        "\n",
        "for i in random.sample(range(len(english_val)), 8):\n",
        "    eng_sent = english_val[i]\n",
        "    print(\"English:\", eng_sent)\n",
        "    print(\"Translation:\", translate(eng_sent, encoder_model, decoder, tokenizer, maxlen)) # Pass maxlen to the function\n",
        "    print()"
      ],
      "cell_type": "code",
      "metadata": {
        "colab": {
          "base_uri": "https://localhost:8080/"
        },
        "id": "hDPn0RjkvgE3",
        "outputId": "b0d91a45-4835-4a4d-b5d5-a491e9587a28"
      },
      "execution_count": 45,
      "outputs": [
        {
          "output_type": "stream",
          "name": "stdout",
          "text": [
            "English: tom raised me .\n",
            "Translation: tom hat mich geschlagen . <end>\n",
            "\n",
            "English: is she all right ?\n",
            "Translation: ist sie schon wach ? <end>\n",
            "\n",
            "English: tom is demanding .\n",
            "Translation: tom ist gekommen . <end>\n",
            "\n",
            "English: i saw a mouse !\n",
            "Translation: ich sah ein flugzeug . <end>\n",
            "\n",
            "English: tom would know .\n",
            "Translation: tom wird es wissen . <end>\n",
            "\n",
            "English: he is still here .\n",
            "Translation: er ist immer noch dreissig . <end>\n",
            "\n",
            "English: i threw up .\n",
            "Translation: ich habe erbrochen . <end>\n",
            "\n",
            "English: it's what i want .\n",
            "Translation: das ist alles , was ich habe . <end>\n",
            "\n"
          ]
        }
      ]
    }
  ],
  "metadata": {
    "kernelspec": {
      "display_name": "Python 3",
      "name": "python3"
    },
    "language_info": {
      "codemirror_mode": {
        "name": "ipython",
        "version": 3
      },
      "file_extension": ".py",
      "mimetype": "text/x-python",
      "name": "python",
      "nbconvert_exporter": "python",
      "pygments_lexer": "ipython3",
      "version": "3.7.1"
    },
    "colab": {
      "provenance": [],
      "gpuType": "T4"
    },
    "accelerator": "GPU"
  },
  "nbformat": 4,
  "nbformat_minor": 0
}